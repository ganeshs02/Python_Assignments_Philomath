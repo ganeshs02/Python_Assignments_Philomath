{
 "cells": [
  {
   "cell_type": "code",
   "execution_count": 4,
   "id": "591ea40e",
   "metadata": {},
   "outputs": [
    {
     "name": "stdout",
     "output_type": "stream",
     "text": [
      "     Rank CCA3            Country           Capital Continent  \\\n",
      "0      36  AFG        Afghanistan             Kabul      Asia   \n",
      "1     138  ALB            Albania            Tirana    Europe   \n",
      "2      34  DZA            Algeria           Algiers    Africa   \n",
      "3     213  ASM     American Samoa         Pago Pago   Oceania   \n",
      "4     203  AND            Andorra  Andorra la Vella    Europe   \n",
      "..    ...  ...                ...               ...       ...   \n",
      "229   226  WLF  Wallis and Futuna          Mata-Utu   Oceania   \n",
      "230   172  ESH     Western Sahara          El Aaiún    Africa   \n",
      "231    46  YEM              Yemen             Sanaa      Asia   \n",
      "232    63  ZMB             Zambia            Lusaka    Africa   \n",
      "233    74  ZWE           Zimbabwe            Harare    Africa   \n",
      "\n",
      "     2022 Population  2020 Population  2015 Population  2010 Population  \\\n",
      "0         41128771.0       38972230.0       33753499.0       28189672.0   \n",
      "1          2842321.0        2866849.0        2882481.0        2913399.0   \n",
      "2         44903225.0       43451666.0       39543154.0       35856344.0   \n",
      "3            44273.0          46189.0          51368.0          54849.0   \n",
      "4            79824.0          77700.0          71746.0          71519.0   \n",
      "..               ...              ...              ...              ...   \n",
      "229          11572.0          11655.0          12182.0          13142.0   \n",
      "230         575986.0         556048.0         491824.0         413296.0   \n",
      "231       33696614.0       32284046.0       28516545.0       24743946.0   \n",
      "232       20017675.0       18927715.0              NaN       13792086.0   \n",
      "233       16320537.0       15669666.0       14154937.0       12839771.0   \n",
      "\n",
      "     2000 Population  1990 Population  1980 Population  1970 Population  \\\n",
      "0         19542982.0       10694796.0       12486631.0       10752971.0   \n",
      "1          3182021.0        3295066.0        2941651.0        2324731.0   \n",
      "2         30774621.0       25518074.0       18739378.0       13795915.0   \n",
      "3            58230.0          47818.0          32886.0          27075.0   \n",
      "4            66097.0          53569.0          35611.0          19860.0   \n",
      "..               ...              ...              ...              ...   \n",
      "229          14723.0          13454.0          11315.0           9377.0   \n",
      "230         270375.0         178529.0         116775.0          76371.0   \n",
      "231       18628700.0       13375121.0        9204938.0        6843607.0   \n",
      "232        9891136.0        7686401.0        5720438.0        4281671.0   \n",
      "233       11834676.0       10113893.0        7049926.0        5202918.0   \n",
      "\n",
      "     Area (km²)  Density (per km²)  Growth Rate  World Population Percentage  \n",
      "0      652230.0            63.0587       1.0257                         0.52  \n",
      "1       28748.0            98.8702       0.9957                         0.04  \n",
      "2     2381741.0            18.8531       1.0164                         0.56  \n",
      "3         199.0           222.4774       0.9831                         0.00  \n",
      "4         468.0           170.5641       1.0100                         0.00  \n",
      "..          ...                ...          ...                          ...  \n",
      "229       142.0            81.4930       0.9953                         0.00  \n",
      "230    266000.0             2.1654       1.0184                         0.01  \n",
      "231    527968.0            63.8232       1.0217                         0.42  \n",
      "232    752612.0            26.5976       1.0280                         0.25  \n",
      "233    390757.0            41.7665       1.0204                         0.20  \n",
      "\n",
      "[234 rows x 17 columns]\n"
     ]
    }
   ],
   "source": [
    "import pandas as pd\n",
    "\n",
    "df = pd.read_csv(r\"C:\\Users\\Ganseh\\Downloads\\world_population.csv\")\n",
    "print(df)\n"
   ]
  },
  {
   "cell_type": "code",
   "execution_count": 5,
   "id": "1ff54b16",
   "metadata": {},
   "outputs": [
    {
     "name": "stdout",
     "output_type": "stream",
     "text": [
      "     Rank CCA3        Country           Capital      Continent  \\\n",
      "16      8  BGD     Bangladesh             Dhaka           Asia   \n",
      "27      7  BRA         Brazil          Brasilia  South America   \n",
      "41      1  CHN          China           Beijing           Asia   \n",
      "92      2  IND          India         New Delhi           Asia   \n",
      "93      4  IDN      Indonesia           Jakarta           Asia   \n",
      "131    10  MEX         Mexico       Mexico City  North America   \n",
      "149     6  NGA        Nigeria             Abuja         Africa   \n",
      "156     5  PAK       Pakistan         Islamabad           Asia   \n",
      "171     9  RUS         Russia            Moscow         Europe   \n",
      "221     3  USA  United States  Washington, D.C.  North America   \n",
      "\n",
      "     2022 Population  2020 Population  2015 Population  2010 Population  \\\n",
      "16      1.711864e+08     1.674210e+08     1.578300e+08     1.483911e+08   \n",
      "27      2.153135e+08     2.131963e+08     2.051882e+08     1.963535e+08   \n",
      "41      1.425887e+09     1.424930e+09     1.393715e+09     1.348191e+09   \n",
      "92      1.417173e+09     1.396387e+09     1.322867e+09     1.240614e+09   \n",
      "93      2.755013e+08     2.718580e+08     2.590920e+08     2.440162e+08   \n",
      "131     1.275041e+08     1.259983e+08     1.201499e+08     1.125324e+08   \n",
      "149     2.185412e+08     2.083274e+08     1.839958e+08     1.609529e+08   \n",
      "156     2.358249e+08     2.271967e+08     2.109693e+08     1.944545e+08   \n",
      "171     1.447133e+08     1.456173e+08     1.446684e+08     1.432426e+08   \n",
      "221     3.382899e+08     3.359420e+08     3.246078e+08     3.111828e+08   \n",
      "\n",
      "     2000 Population  1990 Population  1980 Population  1970 Population  \\\n",
      "16      1.291933e+08     1.071477e+08       83929765.0       67541860.0   \n",
      "27      1.758737e+08     1.507064e+08      122288383.0       96369875.0   \n",
      "41      1.264099e+09     1.153704e+09      982372466.0      822534450.0   \n",
      "92      1.059634e+09              NaN              NaN      557501301.0   \n",
      "93      2.140724e+08     1.821599e+08      148177096.0      115228394.0   \n",
      "131     9.787344e+07     8.172043e+07       67705186.0       50289306.0   \n",
      "149     1.228520e+08     9.521426e+07       72951439.0       55569264.0   \n",
      "156     1.543699e+08     1.154141e+08       80624057.0       59290872.0   \n",
      "171     1.468448e+08     1.480057e+08      138257420.0      130093010.0   \n",
      "221     2.823986e+08     2.480837e+08      223140018.0      200328340.0   \n",
      "\n",
      "     Area (km²)  Density (per km²)  Growth Rate  World Population Percentage  \n",
      "16     147570.0          1160.0350       1.0108                         2.15  \n",
      "27    8515767.0            25.2841       1.0046                         2.70  \n",
      "41    9706961.0           146.8933       1.0000                        17.88  \n",
      "92    3287590.0           431.0675       1.0068                        17.77  \n",
      "93    1904569.0           144.6529       1.0064                         3.45  \n",
      "131   1964375.0            64.9082       1.0063                         1.60  \n",
      "149    923768.0           236.5759       1.0241                         2.74  \n",
      "156    881912.0           267.4018       1.0191                         2.96  \n",
      "171  17098242.0             8.4636       0.9973                         1.81  \n",
      "221   9372610.0            36.0935       1.0038                         4.24  \n"
     ]
    }
   ],
   "source": [
    "##To find the Rank & To filter the no of column\n",
    "\n",
    "df = df[df['Rank']<= 10] #it will print columns having the rank below or equal to 10.\n",
    "print(df) "
   ]
  },
  {
   "cell_type": "code",
   "execution_count": 6,
   "id": "0ceb4e78",
   "metadata": {},
   "outputs": [
    {
     "name": "stdout",
     "output_type": "stream",
     "text": [
      "     Rank CCA3 Country      Capital      Continent  2022 Population  \\\n",
      "92      2  IND   India    New Delhi           Asia     1.417173e+09   \n",
      "131    10  MEX  Mexico  Mexico City  North America     1.275041e+08   \n",
      "\n",
      "     2020 Population  2015 Population  2010 Population  2000 Population  \\\n",
      "92      1.396387e+09     1.322867e+09     1.240614e+09     1.059634e+09   \n",
      "131     1.259983e+08     1.201499e+08     1.125324e+08     9.787344e+07   \n",
      "\n",
      "     1990 Population  1980 Population  1970 Population  Area (km²)  \\\n",
      "92               NaN              NaN      557501301.0   3287590.0   \n",
      "131       81720428.0       67705186.0       50289306.0   1964375.0   \n",
      "\n",
      "     Density (per km²)  Growth Rate  World Population Percentage  \n",
      "92            431.0675       1.0068                        17.77  \n",
      "131            64.9082       1.0063                         1.60  \n"
     ]
    }
   ],
   "source": [
    "#Specific Values in the perticular column (ISIN Function)\n",
    "\n",
    "specific_countries = [\"India\",\"Mexico\"]\n",
    "\n",
    "df = df[df['Country'].isin(specific_countries)] #it will search 'counrty1' and 'country2' in 'country'\n",
    "\n",
    "print(df)\n"
   ]
  },
  {
   "cell_type": "code",
   "execution_count": null,
   "id": "8db3199f",
   "metadata": {},
   "outputs": [],
   "source": [
    "#Contains () - To search for specific String/Number/Value\n",
    "# \n",
    "df = pd.read_csv(r\"C:\\Users\\Ganseh\\Downloads\\world_population.csv\")\n",
    "\n",
    "\n",
    "df = df[df['Country'].str.contains('United')]\n",
    "print(df)\n",
    "\n",
    "#it will search strings with 'united' init."
   ]
  },
  {
   "cell_type": "code",
   "execution_count": null,
   "id": "18b452c3",
   "metadata": {},
   "outputs": [],
   "source": [
    "#set.index = to set a perticular column as an index.\n",
    "#here we stored result in the another dataframe\n",
    "df = pd.read_csv(r\"C:\\Users\\Ganseh\\Downloads\\world_population.csv\")\n",
    "pd.set_option('display.max_rows',None)\n",
    "df2 = df.set_index ('Country')  #it will take 'country' column as an 'index'\n",
    "df2\n"
   ]
  },
  {
   "cell_type": "code",
   "execution_count": null,
   "id": "a3a04415",
   "metadata": {},
   "outputs": [],
   "source": [
    "#fiter() - To filter out perticualr columns/rows with\n",
    " #perticular items and for perticular axis 'x' and 'y'.\n",
    "df = pd.read_csv(r\"C:\\Users\\Ganseh\\Downloads\\world_population.csv\")\n",
    "\n",
    "df2 = df.filter(items = ['Continent','CCA3'])  #this will print 'continent' 'CCA3' on axis x and y , by\n",
    "#df2\n",
    "\n",
    "df.filter(items=[\"Zimbaewe\"],axis = 0) \n"
   ]
  },
  {
   "cell_type": "code",
   "execution_count": 97,
   "id": "5eb9f074",
   "metadata": {},
   "outputs": [
    {
     "ename": "KeyError",
     "evalue": "'United States'",
     "output_type": "error",
     "traceback": [
      "\u001b[1;31m---------------------------------------------------------------------------\u001b[0m",
      "\u001b[1;31mKeyError\u001b[0m                                  Traceback (most recent call last)",
      "Cell \u001b[1;32mIn[97], line 2\u001b[0m\n\u001b[0;32m      1\u001b[0m \u001b[38;5;66;03m#loc() - location\u001b[39;00m\n\u001b[1;32m----> 2\u001b[0m \u001b[43mdf2\u001b[49m\u001b[38;5;241;43m.\u001b[39;49m\u001b[43mloc\u001b[49m\u001b[43m[\u001b[49m\u001b[38;5;124;43m'\u001b[39;49m\u001b[38;5;124;43mUnited States\u001b[39;49m\u001b[38;5;124;43m'\u001b[39;49m\u001b[43m]\u001b[49m\n",
      "File \u001b[1;32mc:\\Users\\Ganseh\\AppData\\Local\\Programs\\Python\\Python312\\Lib\\site-packages\\pandas\\core\\indexing.py:1191\u001b[0m, in \u001b[0;36m_LocationIndexer.__getitem__\u001b[1;34m(self, key)\u001b[0m\n\u001b[0;32m   1189\u001b[0m maybe_callable \u001b[38;5;241m=\u001b[39m com\u001b[38;5;241m.\u001b[39mapply_if_callable(key, \u001b[38;5;28mself\u001b[39m\u001b[38;5;241m.\u001b[39mobj)\n\u001b[0;32m   1190\u001b[0m maybe_callable \u001b[38;5;241m=\u001b[39m \u001b[38;5;28mself\u001b[39m\u001b[38;5;241m.\u001b[39m_check_deprecated_callable_usage(key, maybe_callable)\n\u001b[1;32m-> 1191\u001b[0m \u001b[38;5;28;01mreturn\u001b[39;00m \u001b[38;5;28;43mself\u001b[39;49m\u001b[38;5;241;43m.\u001b[39;49m\u001b[43m_getitem_axis\u001b[49m\u001b[43m(\u001b[49m\u001b[43mmaybe_callable\u001b[49m\u001b[43m,\u001b[49m\u001b[43m \u001b[49m\u001b[43maxis\u001b[49m\u001b[38;5;241;43m=\u001b[39;49m\u001b[43maxis\u001b[49m\u001b[43m)\u001b[49m\n",
      "File \u001b[1;32mc:\\Users\\Ganseh\\AppData\\Local\\Programs\\Python\\Python312\\Lib\\site-packages\\pandas\\core\\indexing.py:1431\u001b[0m, in \u001b[0;36m_LocIndexer._getitem_axis\u001b[1;34m(self, key, axis)\u001b[0m\n\u001b[0;32m   1429\u001b[0m \u001b[38;5;66;03m# fall thru to straight lookup\u001b[39;00m\n\u001b[0;32m   1430\u001b[0m \u001b[38;5;28mself\u001b[39m\u001b[38;5;241m.\u001b[39m_validate_key(key, axis)\n\u001b[1;32m-> 1431\u001b[0m \u001b[38;5;28;01mreturn\u001b[39;00m \u001b[38;5;28;43mself\u001b[39;49m\u001b[38;5;241;43m.\u001b[39;49m\u001b[43m_get_label\u001b[49m\u001b[43m(\u001b[49m\u001b[43mkey\u001b[49m\u001b[43m,\u001b[49m\u001b[43m \u001b[49m\u001b[43maxis\u001b[49m\u001b[38;5;241;43m=\u001b[39;49m\u001b[43maxis\u001b[49m\u001b[43m)\u001b[49m\n",
      "File \u001b[1;32mc:\\Users\\Ganseh\\AppData\\Local\\Programs\\Python\\Python312\\Lib\\site-packages\\pandas\\core\\indexing.py:1381\u001b[0m, in \u001b[0;36m_LocIndexer._get_label\u001b[1;34m(self, label, axis)\u001b[0m\n\u001b[0;32m   1379\u001b[0m \u001b[38;5;28;01mdef\u001b[39;00m \u001b[38;5;21m_get_label\u001b[39m(\u001b[38;5;28mself\u001b[39m, label, axis: AxisInt):\n\u001b[0;32m   1380\u001b[0m     \u001b[38;5;66;03m# GH#5567 this will fail if the label is not present in the axis.\u001b[39;00m\n\u001b[1;32m-> 1381\u001b[0m     \u001b[38;5;28;01mreturn\u001b[39;00m \u001b[38;5;28;43mself\u001b[39;49m\u001b[38;5;241;43m.\u001b[39;49m\u001b[43mobj\u001b[49m\u001b[38;5;241;43m.\u001b[39;49m\u001b[43mxs\u001b[49m\u001b[43m(\u001b[49m\u001b[43mlabel\u001b[49m\u001b[43m,\u001b[49m\u001b[43m \u001b[49m\u001b[43maxis\u001b[49m\u001b[38;5;241;43m=\u001b[39;49m\u001b[43maxis\u001b[49m\u001b[43m)\u001b[49m\n",
      "File \u001b[1;32mc:\\Users\\Ganseh\\AppData\\Local\\Programs\\Python\\Python312\\Lib\\site-packages\\pandas\\core\\generic.py:4301\u001b[0m, in \u001b[0;36mNDFrame.xs\u001b[1;34m(self, key, axis, level, drop_level)\u001b[0m\n\u001b[0;32m   4299\u001b[0m             new_index \u001b[38;5;241m=\u001b[39m index[loc]\n\u001b[0;32m   4300\u001b[0m \u001b[38;5;28;01melse\u001b[39;00m:\n\u001b[1;32m-> 4301\u001b[0m     loc \u001b[38;5;241m=\u001b[39m \u001b[43mindex\u001b[49m\u001b[38;5;241;43m.\u001b[39;49m\u001b[43mget_loc\u001b[49m\u001b[43m(\u001b[49m\u001b[43mkey\u001b[49m\u001b[43m)\u001b[49m\n\u001b[0;32m   4303\u001b[0m     \u001b[38;5;28;01mif\u001b[39;00m \u001b[38;5;28misinstance\u001b[39m(loc, np\u001b[38;5;241m.\u001b[39mndarray):\n\u001b[0;32m   4304\u001b[0m         \u001b[38;5;28;01mif\u001b[39;00m loc\u001b[38;5;241m.\u001b[39mdtype \u001b[38;5;241m==\u001b[39m np\u001b[38;5;241m.\u001b[39mbool_:\n",
      "File \u001b[1;32mc:\\Users\\Ganseh\\AppData\\Local\\Programs\\Python\\Python312\\Lib\\site-packages\\pandas\\core\\indexes\\range.py:417\u001b[0m, in \u001b[0;36mRangeIndex.get_loc\u001b[1;34m(self, key)\u001b[0m\n\u001b[0;32m    415\u001b[0m         \u001b[38;5;28;01mraise\u001b[39;00m \u001b[38;5;167;01mKeyError\u001b[39;00m(key) \u001b[38;5;28;01mfrom\u001b[39;00m \u001b[38;5;21;01merr\u001b[39;00m\n\u001b[0;32m    416\u001b[0m \u001b[38;5;28;01mif\u001b[39;00m \u001b[38;5;28misinstance\u001b[39m(key, Hashable):\n\u001b[1;32m--> 417\u001b[0m     \u001b[38;5;28;01mraise\u001b[39;00m \u001b[38;5;167;01mKeyError\u001b[39;00m(key)\n\u001b[0;32m    418\u001b[0m \u001b[38;5;28mself\u001b[39m\u001b[38;5;241m.\u001b[39m_check_indexing_error(key)\n\u001b[0;32m    419\u001b[0m \u001b[38;5;28;01mraise\u001b[39;00m \u001b[38;5;167;01mKeyError\u001b[39;00m(key)\n",
      "\u001b[1;31mKeyError\u001b[0m: 'United States'"
     ]
    }
   ],
   "source": [
    "#loc() - location\n",
    "df2.loc['United States']"
   ]
  },
  {
   "cell_type": "code",
   "execution_count": null,
   "id": "4343efca",
   "metadata": {},
   "outputs": [],
   "source": []
  }
 ],
 "metadata": {
  "kernelspec": {
   "display_name": "Python 3 (ipykernel)",
   "language": "python",
   "name": "python3"
  },
  "language_info": {
   "codemirror_mode": {
    "name": "ipython",
    "version": 3
   },
   "file_extension": ".py",
   "mimetype": "text/x-python",
   "name": "python",
   "nbconvert_exporter": "python",
   "pygments_lexer": "ipython3",
   "version": "3.12.5"
  }
 },
 "nbformat": 4,
 "nbformat_minor": 5
}
